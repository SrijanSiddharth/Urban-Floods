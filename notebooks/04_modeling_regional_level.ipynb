{
 "cells": [
  {
   "cell_type": "markdown",
   "id": "88f2d3f5",
   "metadata": {},
   "source": [
    "# Setup & Configs"
   ]
  },
  {
   "cell_type": "code",
   "execution_count": 1,
   "id": "d91f07dc",
   "metadata": {},
   "outputs": [],
   "source": [
    "import os, sys\n",
    "sys.path.insert(0, os.path.abspath(os.path.join(os.getcwd(), \"..\")))\n",
    "\n",
    "import numpy as np\n",
    "import xarray as xr\n",
    "\n",
    "import matplotlib.pyplot as plt\n",
    "\n",
    "from src.preprocessing import mask_water_bodies, downsample_xarray"
   ]
  },
  {
   "cell_type": "code",
   "execution_count": 7,
   "id": "2bf0d149",
   "metadata": {},
   "outputs": [],
   "source": [
    "# Just change the city and run all cells\n",
    "cities = ['Bhopal', 'Indore']\n",
    "years = np.arange(1981, 2024 + 1, 1)"
   ]
  },
  {
   "cell_type": "code",
   "execution_count": 3,
   "id": "8e11d989",
   "metadata": {},
   "outputs": [],
   "source": [
    "\n",
    "from matplotlib.colors import LinearSegmentedColormap\n",
    "\n",
    "custom_cmap = LinearSegmentedColormap.from_list(\"custom_scale\", ['blue', 'cyan', 'green', 'yellow', 'red'])"
   ]
  },
  {
   "cell_type": "markdown",
   "id": "9770e8c6",
   "metadata": {},
   "source": [
    "# Data"
   ]
  },
  {
   "cell_type": "code",
   "execution_count": null,
   "id": "aead8f57",
   "metadata": {},
   "outputs": [],
   "source": []
  }
 ],
 "metadata": {
  "kernelspec": {
   "display_name": ".venv",
   "language": "python",
   "name": "python3"
  },
  "language_info": {
   "codemirror_mode": {
    "name": "ipython",
    "version": 3
   },
   "file_extension": ".py",
   "mimetype": "text/x-python",
   "name": "python",
   "nbconvert_exporter": "python",
   "pygments_lexer": "ipython3",
   "version": "3.11.4"
  }
 },
 "nbformat": 4,
 "nbformat_minor": 5
}
